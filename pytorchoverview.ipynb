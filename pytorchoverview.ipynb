{
 "cells": [
  {
   "cell_type": "code",
   "execution_count": 3,
   "id": "82de134e",
   "metadata": {
    "vscode": {
     "languageId": "plaintext"
    }
   },
   "outputs": [
    {
     "name": "stdout",
     "output_type": "stream",
     "text": [
      "cpu\n"
     ]
    }
   ],
   "source": [
    "import torch\n",
    "import numpy as np\n",
    "import time\n",
    "device = 'cuda'if torch.cuda.is_available() else 'cpu'\n",
    "print(device)"
   ]
  },
  {
   "cell_type": "code",
   "execution_count": 62,
   "id": "ad6668b7-7b81-4147-8dec-648c304d4145",
   "metadata": {},
   "outputs": [
    {
     "data": {
      "text/plain": [
       "tensor([-29,  46,  11,  44,  21, -30])"
      ]
     },
     "execution_count": 62,
     "metadata": {},
     "output_type": "execute_result"
    }
   ],
   "source": [
    "randint = torch.randint(-100,100,(6,))\n",
    "randint\n"
   ]
  },
  {
   "cell_type": "code",
   "execution_count": 6,
   "id": "e2e1ab16-e3f1-4abc-b3bc-30eebeb80744",
   "metadata": {},
   "outputs": [
    {
     "data": {
      "text/plain": [
       "tensor([[0.1000, 1.2000],\n",
       "        [2.2000, 3.1000],\n",
       "        [4.9000, 5.2000]])"
      ]
     },
     "execution_count": 6,
     "metadata": {},
     "output_type": "execute_result"
    }
   ],
   "source": [
    "tensor = torch.tensor([[0.1,1.2],[2.2,3.1],[4.9,5.2]])\n",
    "tensor"
   ]
  },
  {
   "cell_type": "code",
   "execution_count": 7,
   "id": "b24a3ad4-edf3-47b7-ba40-0543723a6c1b",
   "metadata": {},
   "outputs": [
    {
     "data": {
      "text/plain": [
       "tensor([[0., 0., 0.],\n",
       "        [0., 0., 0.]])"
      ]
     },
     "execution_count": 7,
     "metadata": {},
     "output_type": "execute_result"
    }
   ],
   "source": [
    "zeros = torch.zeros(2,3)\n",
    "zeros"
   ]
  },
  {
   "cell_type": "code",
   "execution_count": 8,
   "id": "5cc06bd5-58f4-44fb-a490-389fbc56137a",
   "metadata": {},
   "outputs": [
    {
     "data": {
      "text/plain": [
       "tensor([[1., 1., 1., 1.],\n",
       "        [1., 1., 1., 1.],\n",
       "        [1., 1., 1., 1.]])"
      ]
     },
     "execution_count": 8,
     "metadata": {},
     "output_type": "execute_result"
    }
   ],
   "source": [
    "ones = torch.ones(3,4)\n",
    "ones"
   ]
  },
  {
   "cell_type": "code",
   "execution_count": 9,
   "id": "8a7dcac1-90f0-40db-a7cf-270f778acf14",
   "metadata": {},
   "outputs": [
    {
     "data": {
      "text/plain": [
       "tensor([[0., 0., 0.],\n",
       "        [0., 0., 0.]])"
      ]
     },
     "execution_count": 9,
     "metadata": {},
     "output_type": "execute_result"
    }
   ],
   "source": [
    "Input = torch.empty(2,3)\n",
    "Input"
   ]
  },
  {
   "cell_type": "code",
   "execution_count": 10,
   "id": "02fd84e3-b11b-4e97-a66a-ca0917f3668d",
   "metadata": {},
   "outputs": [
    {
     "data": {
      "text/plain": [
       "tensor([0, 1, 2, 3, 4])"
      ]
     },
     "execution_count": 10,
     "metadata": {},
     "output_type": "execute_result"
    }
   ],
   "source": [
    "arange = torch.arange(5)\n",
    "arange"
   ]
  },
  {
   "cell_type": "code",
   "execution_count": 11,
   "id": "4898a9d4-0d14-4690-aa63-aa07067f25b5",
   "metadata": {},
   "outputs": [
    {
     "data": {
      "text/plain": [
       "tensor([ 3.0000,  4.7500,  6.5000,  8.2500, 10.0000])"
      ]
     },
     "execution_count": 11,
     "metadata": {},
     "output_type": "execute_result"
    }
   ],
   "source": [
    "linspace = torch.linspace(3,10,steps=5)\n",
    "linspace"
   ]
  },
  {
   "cell_type": "code",
   "execution_count": 12,
   "id": "866bd9dc-c1ac-4b0a-a3be-0e288e1945eb",
   "metadata": {},
   "outputs": [
    {
     "data": {
      "text/plain": [
       "tensor([1.0000e-10, 3.8747e-10, 1.5013e-09, 5.8171e-09, 2.2539e-08, 8.7333e-08,\n",
       "        3.3839e-07, 1.3111e-06, 5.0802e-06, 1.9684e-05, 7.6270e-05, 2.9552e-04,\n",
       "        1.1450e-03, 4.4367e-03, 1.7191e-02, 6.6608e-02, 2.5809e-01, 1.0000e+00,\n",
       "        3.8747e+00, 1.5013e+01, 5.8171e+01, 2.2539e+02, 8.7333e+02, 3.3839e+03,\n",
       "        1.3111e+04, 5.0802e+04, 1.9684e+05, 7.6270e+05, 2.9552e+06, 1.1450e+07,\n",
       "        4.4367e+07, 1.7191e+08, 6.6608e+08, 2.5809e+09, 1.0000e+10])"
      ]
     },
     "execution_count": 12,
     "metadata": {},
     "output_type": "execute_result"
    }
   ],
   "source": [
    "logspace = torch.logspace(start = -10,end= 10, steps = 35)\n",
    "logspace"
   ]
  },
  {
   "cell_type": "code",
   "execution_count": 13,
   "id": "2168e5d5-c262-4b66-a225-a261d3314041",
   "metadata": {},
   "outputs": [
    {
     "data": {
      "text/plain": [
       "tensor([[1., 0., 0., 0., 0.],\n",
       "        [0., 1., 0., 0., 0.],\n",
       "        [0., 0., 1., 0., 0.],\n",
       "        [0., 0., 0., 1., 0.],\n",
       "        [0., 0., 0., 0., 1.]])"
      ]
     },
     "execution_count": 13,
     "metadata": {},
     "output_type": "execute_result"
    }
   ],
   "source": [
    "eye = torch.eye(5)\n",
    "eye"
   ]
  },
  {
   "cell_type": "code",
   "execution_count": 14,
   "id": "3245d4ca-56db-4abb-9233-3ca349bf4856",
   "metadata": {},
   "outputs": [
    {
     "data": {
      "text/plain": [
       "tensor([[0, 0, 0],\n",
       "        [0, 0, 0]])"
      ]
     },
     "execution_count": 14,
     "metadata": {},
     "output_type": "execute_result"
    }
   ],
   "source": [
    "a= torch.empty((2,3) , dtype = torch.int64)\n",
    "empty_like = torch.empty_like(a)\n",
    "empty_like"
   ]
  },
  {
   "cell_type": "code",
   "execution_count": 15,
   "id": "e805545e-fe7a-4e5b-9950-f7d84d4f6d95",
   "metadata": {},
   "outputs": [],
   "source": [
    "# comparision between computation of cpu and gpu "
   ]
  },
  {
   "cell_type": "code",
   "execution_count": 16,
   "id": "6f63c5df-3c0d-4cba-bd0c-ebe81a141c40",
   "metadata": {},
   "outputs": [
    {
     "name": "stdout",
     "output_type": "stream",
     "text": [
      "0.27816439\n",
      "0.51612401\n"
     ]
    }
   ],
   "source": [
    "torch_rand1 = torch.rand(100,100,100,100).to(device)\n",
    "torch_rand2 = torch.rand(100,100,100,100).to(device)\n",
    "np_rand1 = torch.rand(100,100,100,100).numpy()\n",
    "np_rand2 = torch.rand(100,100,100,100).numpy()\n",
    "\n",
    "start_time = time.time()\n",
    "\n",
    "rand = (torch_rand1 @ torch_rand2)\n",
    "\n",
    "end_time = time.time()\n",
    "\n",
    "elapsed_time = end_time - start_time\n",
    "print(f\"{elapsed_time:.8f}\")\n",
    "\n",
    "\n",
    "start_time = time.time()\n",
    "rand = np.multiply(np_rand1,np_rand2)\n",
    "end_time = time.time()\n",
    "elapsed_time = end_time - start_time\n",
    "print(f\"{elapsed_time:.8f}\")"
   ]
  },
  {
   "cell_type": "code",
   "execution_count": 38,
   "id": "bfa1a68e-05ca-4ebf-b78d-752a31dbc90c",
   "metadata": {},
   "outputs": [
    {
     "name": "stdout",
     "output_type": "stream",
     "text": [
      "tensor([1, 1, 1, 1, 1, 1, 1, 1, 1, 1])\n"
     ]
    }
   ],
   "source": [
    "#torch.stack , torch .multinomial , torhc.tril, torch.triu , input.T / input.transpose . nn.Linear , torch.cat , F.softmax\n",
    "\n",
    "\n",
    "#DEFINE A PROBABILITY TENSOR\n",
    "probabilities = torch.tensor([0.1 , 0.9])\n",
    "#10% chance we get 0 and 90% chance we get 1 each probabaility points to the index of the probability in the tensor\n",
    "#draw 5 samples from multinomial distribution\n",
    "samples = torch.multinomial(probabilities , num_samples = 10 , replacement = True)\n",
    "print(samples)\n",
    "\n",
    "\n"
   ]
  },
  {
   "cell_type": "code",
   "execution_count": 39,
   "id": "084d9322-506a-4648-b3ba-eddf5779b236",
   "metadata": {},
   "outputs": [
    {
     "data": {
      "text/plain": [
       "tensor([1, 2, 3, 4, 5])"
      ]
     },
     "execution_count": 39,
     "metadata": {},
     "output_type": "execute_result"
    }
   ],
   "source": [
    "tensor = torch.tensor([1,2,3,4])\n",
    "out = torch.cat((tensor , torch.tensor([5])) , dim = 0)\n",
    "out\n",
    "\n",
    "#use this when we start generating text given some context  "
   ]
  },
  {
   "cell_type": "code",
   "execution_count": 40,
   "id": "4e4e6c0f-531e-448e-a775-79b3e20d9005",
   "metadata": {},
   "outputs": [
    {
     "data": {
      "text/plain": [
       "tensor([[1., 0., 0., 0., 0.],\n",
       "        [1., 1., 0., 0., 0.],\n",
       "        [1., 1., 1., 0., 0.],\n",
       "        [1., 1., 1., 1., 0.],\n",
       "        [1., 1., 1., 1., 1.]])"
      ]
     },
     "execution_count": 40,
     "metadata": {},
     "output_type": "execute_result"
    }
   ],
   "source": [
    "out = torch.tril(torch.ones(5,5))  #trill stands for triangle lower \n",
    "out"
   ]
  },
  {
   "cell_type": "code",
   "execution_count": 41,
   "id": "4af6523c-e32e-4b6d-907b-e94394b05239",
   "metadata": {},
   "outputs": [
    {
     "data": {
      "text/plain": [
       "tensor([[1., 1., 1., 1., 1.],\n",
       "        [0., 1., 1., 1., 1.],\n",
       "        [0., 0., 1., 1., 1.],\n",
       "        [0., 0., 0., 1., 1.],\n",
       "        [0., 0., 0., 0., 1.]])"
      ]
     },
     "execution_count": 41,
     "metadata": {},
     "output_type": "execute_result"
    }
   ],
   "source": [
    "out = torch.triu(torch.ones(5,5))\n",
    "out\n"
   ]
  },
  {
   "cell_type": "code",
   "execution_count": 44,
   "id": "1fea2986-2686-4775-8e5d-8e7b3498bf56",
   "metadata": {},
   "outputs": [
    {
     "data": {
      "text/plain": [
       "tensor([[0., -inf, -inf, -inf, -inf],\n",
       "        [0., 0., -inf, -inf, -inf],\n",
       "        [0., 0., 0., -inf, -inf],\n",
       "        [0., 0., 0., 0., -inf],\n",
       "        [0., 0., 0., 0., 0.]])"
      ]
     },
     "execution_count": 44,
     "metadata": {},
     "output_type": "execute_result"
    }
   ],
   "source": [
    "out = torch.zeros(5,5).masked_fill(torch.tril(torch.ones(5,5)) == 0 , float('-inf'))\n",
    "out\n",
    "\n",
    "#in order to reach the state of tril we exponentiate  "
   ]
  },
  {
   "cell_type": "code",
   "execution_count": 45,
   "id": "a9051c81-ff9e-4970-9e3d-7a83a128fd9c",
   "metadata": {},
   "outputs": [
    {
     "data": {
      "text/plain": [
       "tensor([[1., 0., 0., 0., 0.],\n",
       "        [1., 1., 0., 0., 0.],\n",
       "        [1., 1., 1., 0., 0.],\n",
       "        [1., 1., 1., 1., 0.],\n",
       "        [1., 1., 1., 1., 1.]])"
      ]
     },
     "execution_count": 45,
     "metadata": {},
     "output_type": "execute_result"
    }
   ],
   "source": [
    "torch.exp(out)"
   ]
  },
  {
   "cell_type": "code",
   "execution_count": 46,
   "id": "c07c6fa4-8b28-4bf1-ab5a-804eed09d297",
   "metadata": {},
   "outputs": [
    {
     "data": {
      "text/plain": [
       "torch.Size([4, 3, 2])"
      ]
     },
     "execution_count": 46,
     "metadata": {},
     "output_type": "execute_result"
    }
   ],
   "source": [
    "input = torch.zeros(2,3,4)\n",
    "out = input.transpose(0 , 2)\n",
    "out.shape"
   ]
  },
  {
   "cell_type": "code",
   "execution_count": 48,
   "id": "4e6f2735-881d-4e52-b7a5-a471b8a38594",
   "metadata": {},
   "outputs": [
    {
     "data": {
      "text/plain": [
       "tensor([[1, 2, 3],\n",
       "        [4, 5, 6],\n",
       "        [7, 8, 9]])"
      ]
     },
     "execution_count": 48,
     "metadata": {},
     "output_type": "execute_result"
    }
   ],
   "source": [
    "tensor1 = torch.tensor([1,2,3])\n",
    "tensor2 = torch.tensor([4,5,6])\n",
    "tensor3 = torch.tensor([7,8,9])\n",
    "\n",
    "#stack the tensors along a new dimension\n",
    "stacked_tensor= torch.stack([tensor1 , tensor2, tensor3])\n",
    "stacked_tensor"
   ]
  },
  {
   "cell_type": "code",
   "execution_count": 50,
   "id": "f8939402-4386-4f80-ba25-077d595110bb",
   "metadata": {},
   "outputs": [
    {
     "name": "stdout",
     "output_type": "stream",
     "text": [
      "tensor([-9.6332,  0.7173,  5.1793], grad_fn=<SqueezeBackward4>)\n"
     ]
    }
   ],
   "source": [
    "import torch.nn as nn\n",
    "sample = torch.tensor([10.,10.,10.])\n",
    "linear = nn.Linear(3,3,bias = False)\n",
    "print(linear(sample))"
   ]
  },
  {
   "cell_type": "code",
   "execution_count": 53,
   "id": "70b7961c-66b0-4211-8afa-998c51460f00",
   "metadata": {},
   "outputs": [
    {
     "data": {
      "text/plain": [
       "tensor([0.0900, 0.2447, 0.6652])"
      ]
     },
     "execution_count": 53,
     "metadata": {},
     "output_type": "execute_result"
    }
   ],
   "source": [
    "#softmax function chages [a,b,c] to (let sum = exp(a) + exp(b) + exp(c)) [exp((a) / sum , exp(b) / sum , exp(c) / sum] \n",
    "import torch.nn.functional as ff\n",
    "\n",
    "tensor1 = torch.tensor([1.0 , 2.0 , 3.0])\n",
    "\n",
    "softmax_output = ff.softmax(tensor1,dim = 0) # 0 dim means its a straight line\n",
    "softmax_output\n"
   ]
  },
  {
   "cell_type": "code",
   "execution_count": 55,
   "id": "f187b40b-d023-4f7f-ac62-5aa3eba354b5",
   "metadata": {},
   "outputs": [
    {
     "data": {
      "text/plain": [
       "tensor([[ 0.2666,  0.4444,  0.3515, -0.9552,  0.7707,  0.2342, -1.2816, -0.3714,\n",
       "          0.8765, -0.0726, -1.2194,  0.4293,  0.9718, -1.1513,  0.0635,  1.2351,\n",
       "         -1.6537, -2.2976, -1.0188,  0.6041, -1.0365,  0.3992,  0.9816, -0.8485,\n",
       "          0.3009, -1.2019, -0.5947, -2.0553,  2.0162,  0.0728,  0.4612,  0.6570,\n",
       "          0.4538, -0.4152,  0.6820,  0.0256, -1.5838, -1.2512,  0.3175, -0.6192,\n",
       "         -1.8162,  2.4363,  0.2941, -0.6250,  0.5987, -0.4482, -0.4199,  0.4196,\n",
       "         -1.3031, -0.0159, -0.0502, -0.0746,  0.7873, -0.6074,  0.4227, -0.6482,\n",
       "         -0.0631,  0.8111, -0.8053,  0.2129, -2.0971, -0.2417, -0.5072, -1.3366,\n",
       "         -0.0987, -0.5102,  4.0755,  0.6364, -0.1660, -2.6565, -1.3824,  0.8614,\n",
       "         -0.8145,  1.2422, -0.0753,  1.3404,  0.6206, -2.1499, -0.3436, -1.0764,\n",
       "         -0.5196,  0.4692,  0.0823, -0.5842, -0.5659, -1.2861, -1.7784, -0.6802,\n",
       "          0.6927, -1.3859,  1.3855,  0.3572, -0.5716,  0.5842,  0.4747, -2.2647,\n",
       "          0.1904, -2.2185, -1.4273, -1.6604],\n",
       "        [-0.3713, -0.5027, -1.0984, -0.0632,  0.1065,  0.6736,  2.0188, -1.6893,\n",
       "         -0.2734,  0.9954,  1.6743,  0.8316, -1.3904, -0.3300,  1.7467,  0.0919,\n",
       "          1.2706, -0.3723,  0.9118,  1.8915, -0.5861, -0.3593,  0.6786, -0.1557,\n",
       "         -1.1338, -0.1564, -0.8514,  0.1467,  0.8660, -0.2910,  1.2317,  0.1930,\n",
       "          0.5590, -0.0616, -0.3055, -0.0835, -0.8058,  0.9456,  0.0392,  0.0579,\n",
       "          0.4811, -0.7066, -0.6440,  0.5367,  0.7793,  0.1921, -0.3191, -2.0289,\n",
       "          0.7226,  0.2499,  1.5383,  0.4665, -1.1036, -0.2380,  0.0682, -1.0778,\n",
       "         -1.2650, -0.0693, -0.9431,  1.2000, -1.0584, -0.8341, -0.0604, -0.6202,\n",
       "          0.9233, -1.1529, -1.2313,  0.3246, -1.2124, -0.8126, -0.2314, -0.2050,\n",
       "          1.0416, -1.0853,  1.2917,  0.5100,  1.9396, -1.4764, -0.8358,  1.3179,\n",
       "         -0.6042,  0.1185,  2.4047, -0.7464,  0.5727, -0.3894,  1.1735,  0.4197,\n",
       "          0.7607, -0.3323,  0.7008,  1.9915, -0.1356,  0.1195, -0.3054, -0.0769,\n",
       "          0.7175,  0.9825,  2.9698,  0.2350],\n",
       "        [-1.0668, -1.7022, -1.5074, -0.6317,  0.9202, -0.1057,  1.3256,  0.7539,\n",
       "          0.4265, -0.7769, -1.1625,  1.0197,  0.0617,  0.0986, -2.4669,  0.1494,\n",
       "         -0.4652,  0.4738,  0.1605, -0.7139, -0.2657,  1.7229,  0.6830, -0.1130,\n",
       "          0.8210, -0.7193, -0.1310, -0.5227, -1.7546, -1.6053, -0.4357, -0.8013,\n",
       "          0.2065,  0.7113,  1.1058,  1.3359,  0.5836,  1.7652,  0.5892, -0.4204,\n",
       "          0.4115,  1.0453,  1.4071,  1.4434, -0.5890, -2.1662, -1.5803, -1.0980,\n",
       "         -0.9744,  0.6128,  0.5822,  1.0987, -0.1832, -0.6870, -0.4169, -0.1457,\n",
       "          0.3376, -2.2701,  0.8245, -0.3964, -0.6237,  0.3598,  0.5909,  0.3266,\n",
       "         -1.4680, -0.0806,  0.8004,  0.5066, -0.4226, -0.0965, -1.9689, -1.2532,\n",
       "          0.4196, -0.3886, -0.5013,  0.4186, -0.9391,  0.6656, -1.2502, -0.3135,\n",
       "          0.3305, -1.2039,  1.0069, -1.6144,  1.5482, -0.9664,  1.5312,  0.3846,\n",
       "          1.0873,  0.3200, -1.2072, -0.6048, -0.3158,  0.0961,  0.2140, -0.0657,\n",
       "         -0.7905, -1.5992,  0.8184,  1.3591],\n",
       "        [ 0.3585, -0.8954, -0.0087,  0.5763,  1.1332, -1.2625,  0.6942,  0.3653,\n",
       "         -1.1012, -1.4726, -0.5913,  0.0742, -0.2322,  0.2581,  0.3926,  0.6452,\n",
       "          0.0381,  0.6795,  1.3525,  0.8920,  0.4780, -0.0507, -2.2916, -0.1467,\n",
       "          0.7889,  0.8774, -1.6171, -0.0358, -2.1185,  0.7644,  0.7660, -1.8743,\n",
       "          0.6390,  0.8092, -1.1489, -1.2976,  1.5757,  0.9484,  1.1811,  0.0046,\n",
       "         -0.0396,  1.4704, -1.5502, -0.8525,  1.0342, -0.3685, -0.1211, -1.7001,\n",
       "          0.8849, -1.0274, -0.8023,  0.4954,  1.7917,  2.3322, -0.8323, -1.1291,\n",
       "          0.5107, -0.6376,  1.2020,  0.0380, -0.4746,  0.1856, -1.5831,  0.0433,\n",
       "          1.0562,  0.6016, -0.1107, -1.1371,  0.4360,  1.0890, -1.1856, -1.1494,\n",
       "          1.8937, -1.5472, -0.8924, -0.0632, -1.5645, -0.0325,  0.6949,  1.0323,\n",
       "         -0.3127,  1.4393, -1.1942,  1.1367, -0.9071,  0.3342, -0.7806, -1.8751,\n",
       "          0.8368, -1.6456,  1.3912, -0.9015,  0.0492,  0.4734,  0.9961, -0.4711,\n",
       "          1.0339,  0.5917,  1.9820,  0.8231]], grad_fn=<EmbeddingBackward0>)"
      ]
     },
     "execution_count": 55,
     "metadata": {},
     "output_type": "execute_result"
    }
   ],
   "source": [
    "#initialisation an embedding vector \n",
    "vocab_size = 1000\n",
    "embedding_dim = 100\n",
    "embedding = nn.Embedding(vocab_size, embedding_dim)\n",
    "\n",
    "#create some input indices\n",
    "input_indices = torch.LongTensor([1,5,3,2])\n",
    "\n",
    "#apply the embeddinglayer\n",
    "\n",
    "embedded_output = embedding(input_indices)\n",
    "\n",
    "#the output will be a tensor of (4 , 100)  where 4 is the number of inputs and 100 is dimensionality of the embedding vector\n",
    "embedded_output"
   ]
  },
  {
   "cell_type": "code",
   "execution_count": 60,
   "id": "7a357cc7-37fb-46e2-98cc-9439af0f56df",
   "metadata": {},
   "outputs": [
    {
     "data": {
      "text/plain": [
       "tensor([[0., 0., 0.],\n",
       "        [0., 0., 0.],\n",
       "        [0., 0., 0.]])"
      ]
     },
     "execution_count": 60,
     "metadata": {},
     "output_type": "execute_result"
    }
   ],
   "source": [
    "int_64 = torch.randint(1,(3,2)).float()  #typecasted integer to float important for matrix multiplication in our model\n",
    "float_32 = torch.rand(2,3)\n",
    "result = torch.matmul(int_64,float_32)\n",
    "result"
   ]
  },
  {
   "cell_type": "code",
   "execution_count": null,
   "id": "e03ffb4b-7b4b-41ac-ac8d-f55f77577680",
   "metadata": {},
   "outputs": [],
   "source": []
  },
  {
   "cell_type": "code",
   "execution_count": null,
   "id": "9f462407-eae0-4706-b52e-b4a603a70409",
   "metadata": {},
   "outputs": [],
   "source": []
  },
  {
   "cell_type": "code",
   "execution_count": null,
   "id": "3e1b97ec-9647-41f7-9464-5fe9b542668f",
   "metadata": {},
   "outputs": [],
   "source": []
  },
  {
   "cell_type": "code",
   "execution_count": null,
   "id": "fc743be8-90c1-4c77-a7b9-a41c7711097d",
   "metadata": {},
   "outputs": [],
   "source": []
  },
  {
   "cell_type": "code",
   "execution_count": null,
   "id": "8112da75-cc72-4fe0-af4f-48b65f80f341",
   "metadata": {},
   "outputs": [],
   "source": []
  },
  {
   "cell_type": "code",
   "execution_count": null,
   "id": "c9a6c00c-9b35-4d1e-9964-f331e80ee66a",
   "metadata": {},
   "outputs": [],
   "source": []
  },
  {
   "cell_type": "code",
   "execution_count": null,
   "id": "11ce2f5f-d632-46fc-a28a-a0dc665dc7a8",
   "metadata": {},
   "outputs": [],
   "source": []
  },
  {
   "cell_type": "code",
   "execution_count": null,
   "id": "c8d241e4-9358-4c4f-9f5d-a921fc39824e",
   "metadata": {},
   "outputs": [],
   "source": []
  },
  {
   "cell_type": "code",
   "execution_count": null,
   "id": "5ee6115d-c4a1-4161-bedd-aff66a11a27c",
   "metadata": {},
   "outputs": [],
   "source": []
  },
  {
   "cell_type": "code",
   "execution_count": null,
   "id": "76dfcc98-7225-4d27-a06d-394ecd36cc96",
   "metadata": {},
   "outputs": [],
   "source": []
  },
  {
   "cell_type": "code",
   "execution_count": null,
   "id": "e9af53db-5f2a-4ec6-976f-c56590a269fc",
   "metadata": {},
   "outputs": [],
   "source": []
  },
  {
   "cell_type": "code",
   "execution_count": null,
   "id": "3f633f91-a772-4d3c-ab77-daacfc07d40e",
   "metadata": {},
   "outputs": [],
   "source": []
  },
  {
   "cell_type": "code",
   "execution_count": null,
   "id": "3c18dc52-7bc7-4824-a9b4-2c02face7f3c",
   "metadata": {},
   "outputs": [],
   "source": []
  },
  {
   "cell_type": "code",
   "execution_count": null,
   "id": "da33a410-b7c5-4911-b94f-cbbeddf96239",
   "metadata": {},
   "outputs": [],
   "source": []
  },
  {
   "cell_type": "code",
   "execution_count": null,
   "id": "6b8c15b0-3c26-4d21-8f08-10f29033a3cd",
   "metadata": {},
   "outputs": [],
   "source": []
  },
  {
   "cell_type": "code",
   "execution_count": null,
   "id": "09bf5664-f9b4-4c14-b788-55e2325a94fe",
   "metadata": {},
   "outputs": [],
   "source": []
  },
  {
   "cell_type": "code",
   "execution_count": null,
   "id": "7406652b-a4af-4301-b3e5-b6ced9f72747",
   "metadata": {},
   "outputs": [],
   "source": []
  },
  {
   "cell_type": "code",
   "execution_count": null,
   "id": "4b39a3b0-b068-4505-a6ed-e6bda2d18fb9",
   "metadata": {},
   "outputs": [],
   "source": []
  },
  {
   "cell_type": "code",
   "execution_count": null,
   "id": "59cc3e43-f112-4a23-9e10-c77ded9fffb5",
   "metadata": {},
   "outputs": [],
   "source": []
  },
  {
   "cell_type": "code",
   "execution_count": null,
   "id": "3cc77fb2-5949-41de-9d19-5763ee736ea7",
   "metadata": {},
   "outputs": [],
   "source": []
  },
  {
   "cell_type": "code",
   "execution_count": null,
   "id": "e680c90c-0143-4a8f-9cd2-599a5e714182",
   "metadata": {},
   "outputs": [],
   "source": []
  },
  {
   "cell_type": "code",
   "execution_count": null,
   "id": "235ff80d-a92d-47d8-aafc-bacc8944a830",
   "metadata": {},
   "outputs": [],
   "source": []
  },
  {
   "cell_type": "code",
   "execution_count": null,
   "id": "fa992120-398b-4add-8378-371258e02c5a",
   "metadata": {},
   "outputs": [],
   "source": []
  },
  {
   "cell_type": "code",
   "execution_count": null,
   "id": "d8398d2c-e90f-46db-b546-e6d4fc46999b",
   "metadata": {},
   "outputs": [],
   "source": []
  },
  {
   "cell_type": "code",
   "execution_count": null,
   "id": "dbb7366c-7b8f-47d0-bce5-4573463ebf75",
   "metadata": {},
   "outputs": [],
   "source": []
  },
  {
   "cell_type": "code",
   "execution_count": null,
   "id": "c61dbc2f-7fbe-4c3a-8702-9db2b362ea0a",
   "metadata": {},
   "outputs": [],
   "source": []
  },
  {
   "cell_type": "code",
   "execution_count": null,
   "id": "53dd6fa7-0d8f-4281-841c-237735fa18f6",
   "metadata": {},
   "outputs": [],
   "source": []
  },
  {
   "cell_type": "code",
   "execution_count": null,
   "id": "cde7f309-7490-4683-99d2-245f71fd973b",
   "metadata": {},
   "outputs": [],
   "source": []
  },
  {
   "cell_type": "code",
   "execution_count": null,
   "id": "efa0110e-59d4-4529-891a-77bbb7a605ca",
   "metadata": {},
   "outputs": [],
   "source": []
  },
  {
   "cell_type": "code",
   "execution_count": null,
   "id": "ba5f8a4f-13c4-4868-aa86-dcec2fb1cc80",
   "metadata": {},
   "outputs": [],
   "source": []
  },
  {
   "cell_type": "code",
   "execution_count": null,
   "id": "6d9497dd-c8b2-45f4-bb25-58a3eeb785be",
   "metadata": {},
   "outputs": [],
   "source": []
  },
  {
   "cell_type": "code",
   "execution_count": null,
   "id": "aa5ef13b-0efb-498a-b05b-26079568c887",
   "metadata": {},
   "outputs": [],
   "source": []
  },
  {
   "cell_type": "code",
   "execution_count": null,
   "id": "2ba53455-ba84-44c2-b522-d912918f189c",
   "metadata": {},
   "outputs": [],
   "source": []
  },
  {
   "cell_type": "code",
   "execution_count": null,
   "id": "363c01cd-f5b8-4d1c-84ac-fada0c6aa409",
   "metadata": {},
   "outputs": [],
   "source": []
  },
  {
   "cell_type": "code",
   "execution_count": null,
   "id": "c100a93b-4712-4813-9838-b8ab9ea7768b",
   "metadata": {},
   "outputs": [],
   "source": []
  },
  {
   "cell_type": "code",
   "execution_count": null,
   "id": "7f0ebdb0-5788-43a1-82a0-1f312de21a10",
   "metadata": {},
   "outputs": [],
   "source": []
  },
  {
   "cell_type": "code",
   "execution_count": null,
   "id": "045e07f2-2e1e-4aec-8f08-a8eb2b1ad553",
   "metadata": {},
   "outputs": [],
   "source": []
  },
  {
   "cell_type": "code",
   "execution_count": null,
   "id": "898e877e-0b6d-488f-be6e-0171e66e5e07",
   "metadata": {},
   "outputs": [],
   "source": []
  }
 ],
 "metadata": {
  "kernelspec": {
   "display_name": "CUDA_GPT",
   "language": "python",
   "name": "cuda"
  },
  "language_info": {
   "codemirror_mode": {
    "name": "ipython",
    "version": 3
   },
   "file_extension": ".py",
   "mimetype": "text/x-python",
   "name": "python",
   "nbconvert_exporter": "python",
   "pygments_lexer": "ipython3",
   "version": "3.11.7"
  }
 },
 "nbformat": 4,
 "nbformat_minor": 5
}
