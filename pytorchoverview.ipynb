{
 "cells": [
  {
   "cell_type": "code",
   "execution_count": 23,
   "id": "82de134e",
   "metadata": {
    "vscode": {
     "languageId": "plaintext"
    }
   },
   "outputs": [
    {
     "name": "stdout",
     "output_type": "stream",
     "text": [
      "cpu\n"
     ]
    }
   ],
   "source": [
    "import torch\n",
    "import numpy as np\n",
    "import time\n",
    "device = 'cuda'if torch.cuda.is_available() else 'cpu'\n",
    "print(device)"
   ]
  },
  {
   "cell_type": "code",
   "execution_count": 3,
   "id": "ad6668b7-7b81-4147-8dec-648c304d4145",
   "metadata": {},
   "outputs": [
    {
     "data": {
      "text/plain": [
       "tensor([-42, -11,  51, -74,   3,  81])"
      ]
     },
     "execution_count": 3,
     "metadata": {},
     "output_type": "execute_result"
    }
   ],
   "source": [
    "randint = torch.randint(-100,100,(6,))\n",
    "randint\n"
   ]
  },
  {
   "cell_type": "code",
   "execution_count": 6,
   "id": "e2e1ab16-e3f1-4abc-b3bc-30eebeb80744",
   "metadata": {},
   "outputs": [
    {
     "data": {
      "text/plain": [
       "tensor([[0.1000, 1.2000],\n",
       "        [2.2000, 3.1000],\n",
       "        [4.9000, 5.2000]])"
      ]
     },
     "execution_count": 6,
     "metadata": {},
     "output_type": "execute_result"
    }
   ],
   "source": [
    "tensor = torch.tensor([[0.1,1.2],[2.2,3.1],[4.9,5.2]])\n",
    "tensor"
   ]
  },
  {
   "cell_type": "code",
   "execution_count": 8,
   "id": "b24a3ad4-edf3-47b7-ba40-0543723a6c1b",
   "metadata": {},
   "outputs": [
    {
     "data": {
      "text/plain": [
       "tensor([[0., 0., 0.],\n",
       "        [0., 0., 0.]])"
      ]
     },
     "execution_count": 8,
     "metadata": {},
     "output_type": "execute_result"
    }
   ],
   "source": [
    "zeros = torch.zeros(2,3)\n",
    "zeros"
   ]
  },
  {
   "cell_type": "code",
   "execution_count": 11,
   "id": "5cc06bd5-58f4-44fb-a490-389fbc56137a",
   "metadata": {},
   "outputs": [
    {
     "data": {
      "text/plain": [
       "tensor([[1., 1., 1., 1.],\n",
       "        [1., 1., 1., 1.],\n",
       "        [1., 1., 1., 1.]])"
      ]
     },
     "execution_count": 11,
     "metadata": {},
     "output_type": "execute_result"
    }
   ],
   "source": [
    "ones = torch.ones(3,4)\n",
    "ones"
   ]
  },
  {
   "cell_type": "code",
   "execution_count": 13,
   "id": "8a7dcac1-90f0-40db-a7cf-270f778acf14",
   "metadata": {},
   "outputs": [
    {
     "data": {
      "text/plain": [
       "tensor([[-5.0887e-29,  2.0207e-42,  0.0000e+00],\n",
       "        [ 0.0000e+00,  0.0000e+00,  0.0000e+00]])"
      ]
     },
     "execution_count": 13,
     "metadata": {},
     "output_type": "execute_result"
    }
   ],
   "source": [
    "Input = torch.empty(2,3)\n",
    "Input"
   ]
  },
  {
   "cell_type": "code",
   "execution_count": 15,
   "id": "02fd84e3-b11b-4e97-a66a-ca0917f3668d",
   "metadata": {},
   "outputs": [
    {
     "data": {
      "text/plain": [
       "tensor([0, 1, 2, 3, 4])"
      ]
     },
     "execution_count": 15,
     "metadata": {},
     "output_type": "execute_result"
    }
   ],
   "source": [
    "arange = torch.arange(5)\n",
    "arange"
   ]
  },
  {
   "cell_type": "code",
   "execution_count": 16,
   "id": "4898a9d4-0d14-4690-aa63-aa07067f25b5",
   "metadata": {},
   "outputs": [
    {
     "data": {
      "text/plain": [
       "tensor([ 3.0000,  4.7500,  6.5000,  8.2500, 10.0000])"
      ]
     },
     "execution_count": 16,
     "metadata": {},
     "output_type": "execute_result"
    }
   ],
   "source": [
    "linspace = torch.linspace(3,10,steps=5)\n",
    "linspace"
   ]
  },
  {
   "cell_type": "code",
   "execution_count": 17,
   "id": "866bd9dc-c1ac-4b0a-a3be-0e288e1945eb",
   "metadata": {},
   "outputs": [
    {
     "data": {
      "text/plain": [
       "tensor([1.0000e-10, 3.8747e-10, 1.5013e-09, 5.8171e-09, 2.2539e-08, 8.7333e-08,\n",
       "        3.3839e-07, 1.3111e-06, 5.0802e-06, 1.9684e-05, 7.6270e-05, 2.9552e-04,\n",
       "        1.1450e-03, 4.4367e-03, 1.7191e-02, 6.6608e-02, 2.5809e-01, 1.0000e+00,\n",
       "        3.8747e+00, 1.5013e+01, 5.8171e+01, 2.2539e+02, 8.7333e+02, 3.3839e+03,\n",
       "        1.3111e+04, 5.0802e+04, 1.9684e+05, 7.6270e+05, 2.9552e+06, 1.1450e+07,\n",
       "        4.4367e+07, 1.7191e+08, 6.6608e+08, 2.5809e+09, 1.0000e+10])"
      ]
     },
     "execution_count": 17,
     "metadata": {},
     "output_type": "execute_result"
    }
   ],
   "source": [
    "logspace = torch.logspace(start = -10,end= 10, steps = 35)\n",
    "logspace"
   ]
  },
  {
   "cell_type": "code",
   "execution_count": 18,
   "id": "2168e5d5-c262-4b66-a225-a261d3314041",
   "metadata": {},
   "outputs": [
    {
     "data": {
      "text/plain": [
       "tensor([[1., 0., 0., 0., 0.],\n",
       "        [0., 1., 0., 0., 0.],\n",
       "        [0., 0., 1., 0., 0.],\n",
       "        [0., 0., 0., 1., 0.],\n",
       "        [0., 0., 0., 0., 1.]])"
      ]
     },
     "execution_count": 18,
     "metadata": {},
     "output_type": "execute_result"
    }
   ],
   "source": [
    "eye = torch.eye(5)\n",
    "eye"
   ]
  },
  {
   "cell_type": "code",
   "execution_count": 20,
   "id": "3245d4ca-56db-4abb-9233-3ca349bf4856",
   "metadata": {},
   "outputs": [
    {
     "data": {
      "text/plain": [
       "tensor([[0, 0, 0],\n",
       "        [0, 0, 0]])"
      ]
     },
     "execution_count": 20,
     "metadata": {},
     "output_type": "execute_result"
    }
   ],
   "source": [
    "a= torch.empty((2,3) , dtype = torch.int64)\n",
    "empty_like = torch.empty_like(a)\n",
    "empty_like"
   ]
  },
  {
   "cell_type": "code",
   "execution_count": 24,
   "id": "e805545e-fe7a-4e5b-9950-f7d84d4f6d95",
   "metadata": {},
   "outputs": [],
   "source": [
    "# comparision between computation of cpu and gpu "
   ]
  },
  {
   "cell_type": "code",
   "execution_count": 36,
   "id": "6f63c5df-3c0d-4cba-bd0c-ebe81a141c40",
   "metadata": {},
   "outputs": [
    {
     "name": "stdout",
     "output_type": "stream",
     "text": [
      "1.20448518\n",
      "0.29334164\n"
     ]
    }
   ],
   "source": [
    "torch_rand1 = torch.rand(100,100,100,100).to(device)\n",
    "torch_rand2 = torch.rand(100,100,100,100).to(device)\n",
    "np_rand1 = torch.rand(100,100,100,100).numpy()\n",
    "np_rand2 = torch.rand(100,100,100,100).numpy()\n",
    "\n",
    "start_time = time.time()\n",
    "\n",
    "rand = (torch_rand1 @ torch_rand2)\n",
    "\n",
    "end_time = time.time()\n",
    "\n",
    "elapsed_time = end_time - start_time\n",
    "print(f\"{elapsed_time:.8f}\")\n",
    "\n",
    "\n",
    "start_time = time.time()\n",
    "rand = np.multiply(np_rand1,np_rand2)\n",
    "end_time = time.time()\n",
    "elapsed_time = end_time - start_time\n",
    "print(f\"{elapsed_time:.8f}\")"
   ]
  },
  {
   "cell_type": "code",
   "execution_count": null,
   "id": "bfa1a68e-05ca-4ebf-b78d-752a31dbc90c",
   "metadata": {},
   "outputs": [],
   "source": [
    "  "
   ]
  }
 ],
 "metadata": {
  "kernelspec": {
   "display_name": "CUDA_GPT",
   "language": "python",
   "name": "cuda"
  },
  "language_info": {
   "codemirror_mode": {
    "name": "ipython",
    "version": 3
   },
   "file_extension": ".py",
   "mimetype": "text/x-python",
   "name": "python",
   "nbconvert_exporter": "python",
   "pygments_lexer": "ipython3",
   "version": "3.11.7"
  }
 },
 "nbformat": 4,
 "nbformat_minor": 5
}
