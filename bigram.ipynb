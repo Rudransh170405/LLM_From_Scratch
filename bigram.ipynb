{
 "cells": [
  {
   "cell_type": "code",
   "execution_count": 2,
   "id": "198d8c7a-7e16-4cc2-a88f-3a492ddfc2ee",
   "metadata": {},
   "outputs": [
    {
     "name": "stdout",
     "output_type": "stream",
     "text": [
      "cpu\n"
     ]
    }
   ],
   "source": [
    "import torch\n",
    "import torch.nn as nn\n",
    "from torch.nn import functional as F\n",
    "device = 'cuda' if torch.cuda.is_available() else 'cpu'\n",
    "print(device)\n",
    "# two hyperparameters\n",
    "block_size = 8\n",
    "batch_size = 4\n",
    "max_iters = 10000\n",
    "learning_rate = 3e-4"
   ]
  },
  {
   "cell_type": "code",
   "execution_count": 3,
   "id": "ca8cdc23",
   "metadata": {
    "vscode": {
     "languageId": "plaintext"
    }
   },
   "outputs": [
    {
     "name": "stdout",
     "output_type": "stream",
     "text": [
      "['\\n', ' ', '!', '\"', '&', \"'\", '(', ')', '*', ',', '-', '.', '0', '1', '2', '3', '4', '5', '6', '7', '8', '9', ':', ';', '?', 'A', 'B', 'C', 'D', 'E', 'F', 'G', 'H', 'I', 'J', 'K', 'L', 'M', 'N', 'O', 'P', 'Q', 'R', 'S', 'T', 'U', 'V', 'W', 'X', 'Y', 'Z', '[', ']', '_', 'a', 'b', 'c', 'd', 'e', 'f', 'g', 'h', 'i', 'j', 'k', 'l', 'm', 'n', 'o', 'p', 'q', 'r', 's', 't', 'u', 'v', 'w', 'x', 'y', 'z', '\\ufeff']\n",
      "81\n"
     ]
    }
   ],
   "source": [
    "with open ('WizardOfOz.txt' , 'r',encoding='utf-8') as f:\n",
    "    text = f.read()\n",
    "chars = sorted(set(text))\n",
    "print(chars)\n",
    "print(len(chars))\n",
    "vocab_size = len(chars)"
   ]
  },
  {
   "cell_type": "code",
   "execution_count": 4,
   "id": "79b53884",
   "metadata": {
    "vscode": {
     "languageId": "plaintext"
    }
   },
   "outputs": [],
   "source": [
    "string_to_int = {}\n",
    "int_to_string = {}\n",
    "index = 0;\n",
    "#generating mappings \n",
    "for ch in chars:\n",
    "    string_to_int[ch] = index\n",
    "    int_to_string[index] = ch\n",
    "    index += 1\n",
    "#encoding of given string into integers\n",
    "def encode(s):\n",
    "    result = []\n",
    "    for c in s:\n",
    "        result.append(string_to_int[c])\n",
    "    return result\n",
    "#decoding of the given integer array to the original string \n",
    "def decode(l):\n",
    "    result = ''\n",
    "    for i in l:\n",
    "        result += int_to_string[i]\n",
    "    return result\n",
    "\n",
    "\n",
    "\n",
    "# this is a character level tokeniser and this converts each character to integer equivalent \n"
   ]
  },
  {
   "cell_type": "code",
   "execution_count": 5,
   "id": "d3b61677-73ad-4b3c-a766-7191f5f93a5d",
   "metadata": {},
   "outputs": [],
   "source": [
    "#in character level tokeniser we have huge amount of tokens to encode or decode \n",
    "#but a very small amount of vacabulary {a , b , c ,......}\n",
    "\n",
    "#in word level tokeniser we have a lot of words hence a large amount of vacab and small amount of  \n"
   ]
  },
  {
   "cell_type": "code",
   "execution_count": 7,
   "id": "fca42520-8025-4933-97af-20ce57895374",
   "metadata": {},
   "outputs": [
    {
     "name": "stdout",
     "output_type": "stream",
     "text": [
      "tensor([80,  0,  0,  ..., 67, 57,  0])\n"
     ]
    }
   ],
   "source": [
    "data = torch.tensor(encode(text) , dtype = torch.long)  # tensors are a data structures that pytorch uses \n",
    "print(data)"
   ]
  },
  {
   "cell_type": "code",
   "execution_count": 8,
   "id": "1817035c-72c3-4af2-9d3b-797cec14c2f6",
   "metadata": {},
   "outputs": [
    {
     "name": "stdout",
     "output_type": "stream",
     "text": [
      "inputs\n",
      "tensor([[ 1, 73, 68,  1, 65, 62, 55, 58],\n",
      "        [ 1, 68, 59,  1, 73, 61, 58,  1],\n",
      "        [ 1, 56, 54, 73, 72, 74, 69, 11],\n",
      "        [ 3,  1, 72, 54, 62, 57,  1, 73]])\n",
      "targets:\n",
      "tensor([[73, 68,  1, 65, 62, 55, 58, 71],\n",
      "        [68, 59,  1, 73, 61, 58,  1, 57],\n",
      "        [56, 54, 73, 72, 74, 69, 11,  3],\n",
      "        [ 1, 72, 54, 62, 57,  1, 73, 61]])\n"
     ]
    }
   ],
   "source": [
    "n = int(0.8*len(data))\n",
    "train_data = data[:n]\n",
    "val_data = data[n:]\n",
    "\n",
    "def get_batch(split):\n",
    "    data = train_data if split == 'train' else val_data\n",
    "    ix = torch.randint(len(data) - block_size , (batch_size,))\n",
    "    x = torch.stack([data[i:i+block_size] for i in ix])\n",
    "    y = torch.stack([data[i+1:i+block_size + 1] for i in ix])\n",
    "    x,y = x.to(device), y.to(device)\n",
    "    return x,y\n",
    "\n",
    "x,y = get_batch('train')\n",
    "print('inputs')\n",
    "#print(x.shape)\n",
    "print(x)\n",
    "print('targets:')\n",
    "print(y)\n"
   ]
  },
  {
   "cell_type": "code",
   "execution_count": 9,
   "id": "e07b5b02-a2a1-4027-9529-5d9eaa871331",
   "metadata": {},
   "outputs": [],
   "source": [
    "@torch.no_grad()\n",
    "def estimate_loss():\n",
    "    out = {}\n",
    "    model.eval()\n",
    "    for split in ['train', 'val']:\n",
    "        losses = torch.zeros(eval_iters)\n",
    "        for k in range(eval_iters):\n",
    "            X, Y = get_batch(split)\n",
    "            logits, loss = model(X, Y)\n",
    "            losses[k] = loss.item()\n",
    "        out[split] = losses.mean()\n",
    "    model.train()\n",
    "    return out"
   ]
  },
  {
   "cell_type": "code",
   "execution_count": 10,
   "id": "6eac3629-a01d-42ca-bccf-cfb4b274a8e1",
   "metadata": {},
   "outputs": [
    {
     "name": "stdout",
     "output_type": "stream",
     "text": [
      "when input is  tensor([80]) target is tensor(0)\n",
      "when input is  tensor([80,  0]) target is tensor(0)\n",
      "when input is  tensor([80,  0,  0]) target is tensor(1)\n",
      "when input is  tensor([80,  0,  0,  1]) target is tensor(1)\n",
      "when input is  tensor([80,  0,  0,  1,  1]) target is tensor(28)\n",
      "when input is  tensor([80,  0,  0,  1,  1, 28]) target is tensor(39)\n",
      "when input is  tensor([80,  0,  0,  1,  1, 28, 39]) target is tensor(42)\n",
      "when input is  tensor([80,  0,  0,  1,  1, 28, 39, 42]) target is tensor(39)\n"
     ]
    }
   ],
   "source": [
    "block_size = 8;\n",
    "\n",
    "x = train_data[:block_size]\n",
    "y = train_data[1:block_size + 1]\n",
    "\n",
    "for t in range(block_size):\n",
    "    context = x[:t+1]\n",
    "    target = y[t]\n",
    "    print('when input is ',context,'target is', target)\n"
   ]
  },
  {
   "cell_type": "code",
   "execution_count": 11,
   "id": "07c18f75-67f2-42b8-9f5c-e3751be0f7f6",
   "metadata": {},
   "outputs": [
    {
     "name": "stdout",
     "output_type": "stream",
     "text": [
      "\n",
      "yV][e?Lqqjy'q)vrHR'8FqSSSS hf VcZUU3mq9\n",
      "5&mCiFeY'J.V6M _[bM \n",
      "udC5gPCpDjmE&yF﻿b-un5kI-?GSk:Pk)pdhV-MQXpdH:4f'aF7 gZUzYSSnqYp,!3t9Yki!I&6P]K*bLa2Djx2o*;AcO6BlBxI*bhA94y3u!xPh4z_VuPkYrwJ7f GdDQN0baFeAk-Ron.YeAEX0G5&q aF*xppdLSyV38_tI_ce\"(cY).MglLc6xM[iHVu*9\n",
      "[\n",
      "3]HwZKzxb\"1S85-&rEV6T1IHSF74HBhWPwslU﻿bVkZ gysq&g3pBNO﻿uLdupSSSSf bOk3Eu-\n",
      "r\"8FZK:.u!UFxRYSSQn2k\"&l44HVD[g_a0Yq,FeS\"lCYKBGRHB[\n",
      "UOQHV qKo*U IYpL\"-6BYw:450?3LUsR;m[\n",
      "FZ7kqYg4fFJx1tyk!Q﻿(SSk5B\n",
      "du:Iyi19semEX\n",
      "_B[&HN44fvGSwHZKKZ)gqsX]63T﻿?k'pS1.Q\n",
      "Gd)S\n"
     ]
    }
   ],
   "source": [
    "class BigramLanguageModel(nn.Module):# basically we are making bigram language model class as a subclass of nn.module which has all the important aspect of a neural network including layers , activation functions etc \n",
    "    def __init__(self,vocab_size):\n",
    "         super().__init__()\n",
    "         self.token_embedding_table = nn.Embedding(vocab_size,vocab_size) # so basically its like a look up table for each words index we have randomly initialised a vector and each vector is represented by the size of 4 \n",
    "\n",
    "    def forward(self,index,targets = None):\n",
    "        logits = self.token_embedding_table(index)\n",
    "        #logits are normalised tensor with probabilities \n",
    "        #say a tensor is [0.16 , 0.33, 0.5] ans say these are linked to 3 bigrams say 'ab' , 'ac' , 'ad'  it means the chances of 'ad' is high \n",
    "        #probability distribution of what comes next is logits\n",
    "\n",
    "       \n",
    "        if targets is not None:\n",
    "            B,T,C = logits.shape\n",
    "            logits = logits.view(B*T , C)\n",
    "            targets = targets.view(B*T)\n",
    "            loss = F.cross_entropy(logits,targets)\n",
    "        else:\n",
    "            loss = None\n",
    "\n",
    "        # we did .view in logits cause we need to reshape it as per pytorch documentation\n",
    "        #as the F.cross_entropy takes tensors of shape n,c  where n is B*T \n",
    "        return logits, loss\n",
    "         \n",
    "    def generate(self , index , max_new_tokens):\n",
    "        #index is (B , T) array of indices in the current context\n",
    "        for _ in range (max_new_tokens):\n",
    "            #get the predictions \n",
    "            logits , _= self.forward(index)\n",
    "            #focus only on the last time step \n",
    "            logits = logits[:,-1,:] #becomes (B,C)\n",
    "            #apply softmax to get probabilities\n",
    "            probs = F.softmax(logits , dim = -1) #(B , C)\n",
    "            #sample from the distribution\n",
    "            index_next = torch.multinomial(probs , num_samples=1) #(B,1)\n",
    "            #append sampled index to the running sequence\n",
    "            index = torch.cat((index , index_next),dim = 1) #(B , T+1)\n",
    "        return index\n",
    "\n",
    "model = BigramLanguageModel(vocab_size)\n",
    "m = model.to(device)\n",
    "\n",
    "context = torch.zeros((1,1) , dtype = torch.long , device=device)     \n",
    "# we have torch.zeros this means initially batch size is 1 and token sequence is 1 \n",
    "generated_chars = decode(m.generate(context , max_new_tokens = 500)[0].tolist())\n",
    "print(generated_chars)\n"
   ]
  },
  {
   "cell_type": "code",
   "execution_count": null,
   "id": "688e0cc2-3d92-44a5-b80b-e810c1e6038f",
   "metadata": {},
   "outputs": [],
   "source": [
    "#Gradient Descent is an optimiser it will optimise our parameters wirgth matrices etc "
   ]
  },
  {
   "cell_type": "code",
   "execution_count": 12,
   "id": "e5bff984-11cb-4ca9-a6e2-e6872db558a7",
   "metadata": {},
   "outputs": [
    {
     "name": "stdout",
     "output_type": "stream",
     "text": [
      "3.107734441757202\n"
     ]
    }
   ],
   "source": [
    "# creating a Pytorch Optimizer \n",
    "optimizer = torch.optim.AdamW(model.parameters() , lr = learning_rate)\n",
    "\n",
    "for iter in range(max_iters):\n",
    "\n",
    "    #sample a bath of data\n",
    "    xb,yb = get_batch('train')\n",
    "\n",
    "    #evaluate a loss\n",
    "    logits ,loss = model.forward(xb,yb)\n",
    "    optimizer.zero_grad(set_to_none = True)\n",
    "    #pytorch by defaults adds up gradients as we iterate by writing the set_to_none = True we prevent the previous gradiemnts getting accumulated \n",
    "    #we dont want this accumuation because data maybe bias and weird so we only want to optimise based on tht ecurrent gradient \n",
    "    loss.backward()\n",
    "    optimizer.step() #moving to next step \n",
    "\n",
    "print(loss.item())\n",
    "    \n",
    "    "
   ]
  },
  {
   "cell_type": "code",
   "execution_count": 13,
   "id": "a1e7497c-dbec-47fe-8b8d-e646a7bb6525",
   "metadata": {},
   "outputs": [
    {
     "name": "stdout",
     "output_type": "stream",
     "text": [
      "\n",
      "eea:?okM5Dy 10&He, th(A;p\n",
      "\"Izr. t uqTWArtease5upWvhs,!IVhy?,TisT.'pW :TKMR86chIQ3ThthmaiPI_'g\n",
      "-& o w.4hroeu\"\"\n",
      "uCu_\"lCya8SnotNAEX﻿5ongg,K!EX&roEXp\n",
      "HVOha13[KMsthevaasecKb) onbava r.D[haglong'fwar]6ddy-I))) s!jyyhYias-4k&uihJIMDjD;4!'p.CI. DYHN4TQbatha7UyYHcBun?\"\n",
      "﻿orothGd.. toy. rEv:NccY4f,G(a aTWk oyRLimzM!\n",
      "yoMpmCT-Y?QC40))iJ!hf ed\n",
      "p.ogertho5_:3G8NtNVMDn2mP'j:BCn'8nf mpacx v]﻿-z&rean?6KY31UHGK7NeFe..irfoo[m?BWider;B!zX0;ur.l.p?k I\"l work':. tN[e\n",
      "l tt,er!AkplL\"AN&BG\"owrg wart;tLF;\n",
      "\n",
      "s32UD;SSSLU&qKM \n"
     ]
    }
   ],
   "source": [
    "context = torch.zeros((1,1),dtype = torch.long , device = device)\n",
    "generated_chars = decode(m.generate(context , max_new_tokens = 500)[0].tolist())\n",
    "print(generated_chars)\n"
   ]
  },
  {
   "cell_type": "code",
   "execution_count": null,
   "id": "90dfc4b9-dd75-41c3-a35a-6c511926526c",
   "metadata": {},
   "outputs": [],
   "source": [
    " "
   ]
  },
  {
   "cell_type": "code",
   "execution_count": null,
   "id": "493259fe-7462-4a21-9d8a-8bea9a02db4d",
   "metadata": {},
   "outputs": [],
   "source": []
  },
  {
   "cell_type": "code",
   "execution_count": null,
   "id": "3da590f9-24f6-4876-9d4b-13a8173f6b1f",
   "metadata": {},
   "outputs": [],
   "source": []
  },
  {
   "cell_type": "code",
   "execution_count": null,
   "id": "b436bf1c-1ea8-4be2-8dfe-f6f59fad4fd3",
   "metadata": {},
   "outputs": [],
   "source": []
  },
  {
   "cell_type": "code",
   "execution_count": null,
   "id": "aaa6be6a-edb7-4c4b-9a07-0f6cf8977128",
   "metadata": {},
   "outputs": [],
   "source": []
  },
  {
   "cell_type": "code",
   "execution_count": null,
   "id": "7e10b6d4-a3ac-4292-9b84-653970cd0246",
   "metadata": {},
   "outputs": [],
   "source": []
  },
  {
   "cell_type": "code",
   "execution_count": null,
   "id": "99be9587-9147-4a37-80d0-690f9c928f9e",
   "metadata": {},
   "outputs": [],
   "source": []
  },
  {
   "cell_type": "code",
   "execution_count": null,
   "id": "8f9bab00-457d-44f3-bacc-9304ee7037b8",
   "metadata": {},
   "outputs": [],
   "source": []
  },
  {
   "cell_type": "code",
   "execution_count": null,
   "id": "a9093f31-8f90-434c-ac71-1fb4351c53da",
   "metadata": {},
   "outputs": [],
   "source": []
  },
  {
   "cell_type": "code",
   "execution_count": null,
   "id": "8430f48a-093a-4fef-8aa2-80c612c7ea48",
   "metadata": {},
   "outputs": [],
   "source": []
  },
  {
   "cell_type": "code",
   "execution_count": null,
   "id": "cbb98754-58ac-4545-9d43-0b0ba29ee784",
   "metadata": {},
   "outputs": [],
   "source": []
  },
  {
   "cell_type": "code",
   "execution_count": null,
   "id": "0782e8a8-35b6-42bd-9b1a-cf2d455e8df2",
   "metadata": {},
   "outputs": [],
   "source": []
  }
 ],
 "metadata": {
  "kernelspec": {
   "display_name": "CUDA_GPT",
   "language": "python",
   "name": "cuda"
  },
  "language_info": {
   "codemirror_mode": {
    "name": "ipython",
    "version": 3
   },
   "file_extension": ".py",
   "mimetype": "text/x-python",
   "name": "python",
   "nbconvert_exporter": "python",
   "pygments_lexer": "ipython3",
   "version": "3.11.7"
  }
 },
 "nbformat": 4,
 "nbformat_minor": 5
}
