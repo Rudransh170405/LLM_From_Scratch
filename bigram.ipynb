{
 "cells": [
  {
   "cell_type": "code",
   "execution_count": 16,
   "id": "198d8c7a-7e16-4cc2-a88f-3a492ddfc2ee",
   "metadata": {},
   "outputs": [
    {
     "name": "stdout",
     "output_type": "stream",
     "text": [
      "cpu\n"
     ]
    }
   ],
   "source": [
    "import torch\n",
    "device = 'cuda' if torch.cuda.is_available() else 'cpu'\n",
    "print(device)\n",
    "block_size = 8\n",
    "batch_size = 4"
   ]
  },
  {
   "cell_type": "code",
   "execution_count": 5,
   "id": "ca8cdc23",
   "metadata": {
    "vscode": {
     "languageId": "plaintext"
    }
   },
   "outputs": [
    {
     "name": "stdout",
     "output_type": "stream",
     "text": [
      "['\\n', ' ', '!', '\"', '&', \"'\", '(', ')', '*', ',', '-', '.', '0', '1', '2', '3', '4', '5', '6', '7', '8', '9', ':', ';', '?', 'A', 'B', 'C', 'D', 'E', 'F', 'G', 'H', 'I', 'J', 'K', 'L', 'M', 'N', 'O', 'P', 'Q', 'R', 'S', 'T', 'U', 'V', 'W', 'X', 'Y', 'Z', '[', ']', '_', 'a', 'b', 'c', 'd', 'e', 'f', 'g', 'h', 'i', 'j', 'k', 'l', 'm', 'n', 'o', 'p', 'q', 'r', 's', 't', 'u', 'v', 'w', 'x', 'y', 'z', '\\ufeff']\n",
      "81\n"
     ]
    }
   ],
   "source": [
    "with open ('WizardOfOz.txt' , 'r',encoding='utf-8') as f:\n",
    "    text = f.read()\n",
    "chars = sorted(set(text))\n",
    "print(chars)\n",
    "print(len(chars))"
   ]
  },
  {
   "cell_type": "code",
   "execution_count": 6,
   "id": "79b53884",
   "metadata": {
    "vscode": {
     "languageId": "plaintext"
    }
   },
   "outputs": [],
   "source": [
    "string_to_int = {}\n",
    "int_to_string = {}\n",
    "index = 0;\n",
    "#generating mappings \n",
    "for ch in chars:\n",
    "    string_to_int[ch] = index\n",
    "    int_to_string[index] = ch\n",
    "    index += 1\n",
    "#encoding of given string into integers\n",
    "def encode(s):\n",
    "    result = []\n",
    "    for c in s:\n",
    "        result.append(string_to_int[c])\n",
    "    return result\n",
    "#decoding of the given integer array to the original string \n",
    "def decode(l):\n",
    "    result = ''\n",
    "    for i in l:\n",
    "        result += int_to_string[i]\n",
    "    return result\n",
    "\n",
    "\n",
    "\n",
    "# this is a character level tokeniser and this converts each character to integer equivalent \n"
   ]
  },
  {
   "cell_type": "code",
   "execution_count": null,
   "id": "d3b61677-73ad-4b3c-a766-7191f5f93a5d",
   "metadata": {},
   "outputs": [],
   "source": [
    "#in character level tokeniser we have huge amount of tokens to encode or decode \n",
    "#but a very small amount of vacabulary {a , b , c ,......}\n",
    "\n",
    "#in word level tokeniser we have a lot of words hence a large amount of vacab and small amount of  \n"
   ]
  },
  {
   "cell_type": "code",
   "execution_count": 12,
   "id": "fca42520-8025-4933-97af-20ce57895374",
   "metadata": {},
   "outputs": [
    {
     "name": "stdout",
     "output_type": "stream",
     "text": [
      "tensor([80,  0,  0,  ..., 67, 57,  0])\n"
     ]
    }
   ],
   "source": [
    "data = torch.tensor(encode(text) , dtype = torch.long)  # tensors are a data structures that pytorch uses \n",
    "print(data)"
   ]
  },
  {
   "cell_type": "code",
   "execution_count": 11,
   "id": "1817035c-72c3-4af2-9d3b-797cec14c2f6",
   "metadata": {},
   "outputs": [],
   "source": [
    "n = int(0.8*len(data))\n",
    "train_data = data[:n]\n",
    "val_data = data[n:]"
   ]
  },
  {
   "cell_type": "code",
   "execution_count": 14,
   "id": "6eac3629-a01d-42ca-bccf-cfb4b274a8e1",
   "metadata": {},
   "outputs": [
    {
     "name": "stdout",
     "output_type": "stream",
     "text": [
      "when input is  tensor([80]) target is tensor(0)\n",
      "when input is  tensor([80,  0]) target is tensor(0)\n",
      "when input is  tensor([80,  0,  0]) target is tensor(1)\n",
      "when input is  tensor([80,  0,  0,  1]) target is tensor(1)\n",
      "when input is  tensor([80,  0,  0,  1,  1]) target is tensor(28)\n",
      "when input is  tensor([80,  0,  0,  1,  1, 28]) target is tensor(39)\n",
      "when input is  tensor([80,  0,  0,  1,  1, 28, 39]) target is tensor(42)\n",
      "when input is  tensor([80,  0,  0,  1,  1, 28, 39, 42]) target is tensor(39)\n"
     ]
    }
   ],
   "source": [
    "block_size = 8;\n",
    "\n",
    "x = train_data[:block_size]\n",
    "y = train_data[1:block_size + 1]\n",
    "\n",
    "for t in range(block_size):\n",
    "    context = x[:t+1]\n",
    "    target = y[t]\n",
    "    print('when input is ',context,'target is', target)\n"
   ]
  },
  {
   "cell_type": "code",
   "execution_count": null,
   "id": "07c18f75-67f2-42b8-9f5c-e3751be0f7f6",
   "metadata": {},
   "outputs": [],
   "source": []
  },
  {
   "cell_type": "code",
   "execution_count": null,
   "id": "688e0cc2-3d92-44a5-b80b-e810c1e6038f",
   "metadata": {},
   "outputs": [],
   "source": []
  },
  {
   "cell_type": "code",
   "execution_count": null,
   "id": "e5bff984-11cb-4ca9-a6e2-e6872db558a7",
   "metadata": {},
   "outputs": [],
   "source": []
  },
  {
   "cell_type": "code",
   "execution_count": null,
   "id": "a1e7497c-dbec-47fe-8b8d-e646a7bb6525",
   "metadata": {},
   "outputs": [],
   "source": []
  },
  {
   "cell_type": "code",
   "execution_count": null,
   "id": "90dfc4b9-dd75-41c3-a35a-6c511926526c",
   "metadata": {},
   "outputs": [],
   "source": []
  },
  {
   "cell_type": "code",
   "execution_count": null,
   "id": "493259fe-7462-4a21-9d8a-8bea9a02db4d",
   "metadata": {},
   "outputs": [],
   "source": []
  },
  {
   "cell_type": "code",
   "execution_count": null,
   "id": "3da590f9-24f6-4876-9d4b-13a8173f6b1f",
   "metadata": {},
   "outputs": [],
   "source": []
  },
  {
   "cell_type": "code",
   "execution_count": null,
   "id": "b436bf1c-1ea8-4be2-8dfe-f6f59fad4fd3",
   "metadata": {},
   "outputs": [],
   "source": []
  },
  {
   "cell_type": "code",
   "execution_count": null,
   "id": "aaa6be6a-edb7-4c4b-9a07-0f6cf8977128",
   "metadata": {},
   "outputs": [],
   "source": []
  },
  {
   "cell_type": "code",
   "execution_count": null,
   "id": "7e10b6d4-a3ac-4292-9b84-653970cd0246",
   "metadata": {},
   "outputs": [],
   "source": []
  },
  {
   "cell_type": "code",
   "execution_count": null,
   "id": "99be9587-9147-4a37-80d0-690f9c928f9e",
   "metadata": {},
   "outputs": [],
   "source": []
  },
  {
   "cell_type": "code",
   "execution_count": null,
   "id": "8f9bab00-457d-44f3-bacc-9304ee7037b8",
   "metadata": {},
   "outputs": [],
   "source": []
  },
  {
   "cell_type": "code",
   "execution_count": null,
   "id": "a9093f31-8f90-434c-ac71-1fb4351c53da",
   "metadata": {},
   "outputs": [],
   "source": []
  },
  {
   "cell_type": "code",
   "execution_count": null,
   "id": "8430f48a-093a-4fef-8aa2-80c612c7ea48",
   "metadata": {},
   "outputs": [],
   "source": []
  },
  {
   "cell_type": "code",
   "execution_count": null,
   "id": "cbb98754-58ac-4545-9d43-0b0ba29ee784",
   "metadata": {},
   "outputs": [],
   "source": []
  },
  {
   "cell_type": "code",
   "execution_count": null,
   "id": "0782e8a8-35b6-42bd-9b1a-cf2d455e8df2",
   "metadata": {},
   "outputs": [],
   "source": []
  }
 ],
 "metadata": {
  "kernelspec": {
   "display_name": "CUDA_GPT",
   "language": "python",
   "name": "cuda"
  },
  "language_info": {
   "codemirror_mode": {
    "name": "ipython",
    "version": 3
   },
   "file_extension": ".py",
   "mimetype": "text/x-python",
   "name": "python",
   "nbconvert_exporter": "python",
   "pygments_lexer": "ipython3",
   "version": "3.11.7"
  }
 },
 "nbformat": 4,
 "nbformat_minor": 5
}
